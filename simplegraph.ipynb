{
 "cells": [
  {
   "cell_type": "markdown",
   "metadata": {},
   "source": [
    "### State\n",
    "First, define the State of the graph.\n",
    "\n",
    "The State schema serves as the input schema for all Nodes and Edges in the graph.\n",
    "\n",
    "Let's use the TypedDict class from python's typing module as our schema, which provides type hints for the keys."
   ]
  },
  {
   "cell_type": "code",
   "execution_count": 2,
   "metadata": {},
   "outputs": [],
   "source": [
    "from typing_extensions import TypedDict\n",
    "\n",
    "\n",
    "class State(TypedDict):\n",
    "    graph_state: str"
   ]
  },
  {
   "cell_type": "markdown",
   "metadata": {},
   "source": [
    "#### Nodes\n",
    "Nodes are just python functions.\n",
    "\n",
    "The first positional argument is the state, as defined above.\n",
    "\n",
    "Because the state is a TypedDict with schema as defined above, each node can access the key, graph_state, with state['graph_state'].\n",
    "\n",
    "Each node returns a new value of the state key graph_state.\n",
    "\n",
    "By default, the new value returned by each node will override the prior state value."
   ]
  },
  {
   "cell_type": "code",
   "execution_count": 3,
   "metadata": {},
   "outputs": [],
   "source": [
    "def first_node(state):\n",
    "    print(\"My First Node is called\")\n",
    "    return {\"graph_state\": state[\"graph_state\"] + \"I am playing\"}\n",
    "\n",
    "\n",
    "def second_node(state):\n",
    "    print(\"My Second Node is called\")\n",
    "    return {\"graph_state\": state[\"graph_state\"] + \" Cricket\"}\n",
    "\n",
    "\n",
    "def third_node(state):\n",
    "    print(\"My Third Node is called\")\n",
    "    return {\"graph_state\": state[\"graph_state\"] + \" Badminton\"}"
   ]
  },
  {
   "cell_type": "markdown",
   "metadata": {},
   "source": [
    "#### Edges\n",
    "Edges connect the nodes.\n",
    "\n",
    "Normal Edges are used if you want to always go from, for example, node_1 to node_2.\n",
    "\n",
    "Conditional Edges are used if you want to optionally route between nodes.\n",
    "\n",
    "Conditional edges are implemented as functions that return the next node to visit based upon some logic."
   ]
  },
  {
   "cell_type": "code",
   "execution_count": 4,
   "metadata": {},
   "outputs": [],
   "source": [
    "import random\n",
    "from typing import Literal\n",
    "\n",
    "\n",
    "def decide_play(state) -> Literal[\"second_node\", \"third_node\"]:\n",
    "    graph_state = state[\"graph_state\"]\n",
    "\n",
    "    if random.random() < 0.5:\n",
    "        return \"second_node\"\n",
    "\n",
    "    return \"third_node\""
   ]
  },
  {
   "cell_type": "markdown",
   "metadata": {},
   "source": [
    "## Graph \n"
   ]
  },
  {
   "cell_type": "markdown",
   "metadata": {},
   "source": [
    "#### Graph Construction\n",
    "Now, we build the graph from our components defined above.\n",
    "\n",
    "The StateGraph class is the graph class that we can use.\n",
    "\n",
    "First, we initialize a StateGraph with the State class we defined above.\n",
    "\n",
    "Then, we add our nodes and edges.\n",
    "\n",
    "We use the START Node, a special node that sends user input to the graph, to indicate where to start our graph.\n",
    "\n",
    "The END Node is a special node that represents a terminal node.\n",
    "\n",
    "Finally, we compile our graph to perform a few basic checks on the graph structure.\n",
    "\n",
    "We can visualize the graph as a Mermaid diagram."
   ]
  },
  {
   "cell_type": "code",
   "execution_count": 6,
   "metadata": {},
   "outputs": [
    {
     "data": {
      "image/png": "[encoded data removed]",
      "text/plain": [
       "<IPython.core.display.Image object>"
      ]
     },
     "metadata": {},
     "output_type": "display_data"
    }
   ],
   "source": [
    "from IPython.display import Image, display\n",
    "from langgraph.graph import StateGraph, START, END\n",
    "\n",
    "## Build Graph\n",
    "builder = StateGraph(State)\n",
    "\n",
    "builder.add_node(\"first_node\", first_node)\n",
    "builder.add_node(\"second_node\", second_node)\n",
    "builder.add_node(\"third_node\", third_node)\n",
    "\n",
    "## Logic\n",
    "builder.add_edge(START, \"first_node\")\n",
    "builder.add_conditional_edges(\"first_node\", decide_play)\n",
    "builder.add_edge(\"second_node\", END)\n",
    "builder.add_edge(\"third_node\", END)\n",
    "\n",
    "## Add\n",
    "graph = builder.compile()\n",
    "\n",
    "## View\n",
    "display(Image(graph.get_graph().draw_mermaid_png()))"
   ]
  },
  {
   "cell_type": "markdown",
   "metadata": {},
   "source": [
    "### Graph Invocation\n",
    "The compiled graph implements the runnable protocol.\n",
    "\n",
    "This provides a standard way to execute LangChain components.\n",
    "\n",
    "invoke is one of the standard methods in this interface.\n",
    "\n",
    "The input is a dictionary {\"graph_state\": \"Hi, this is lance.\"}, which sets the initial value for our graph state dict.\n",
    "\n",
    "When invoke is called, the graph starts execution from the START node.\n",
    "\n",
    "It progresses through the defined nodes (node_1, node_2, node_3) in order.\n",
    "\n",
    "The conditional edge will traverse from node 1 to node 2 or 3 using a 50/50 decision rule.\n",
    "\n",
    "Each node function receives the current state and returns a new value, which overrides the graph state.\n",
    "\n",
    "The execution continues until it reaches the END node."
   ]
  },
  {
   "cell_type": "code",
   "execution_count": 7,
   "metadata": {},
   "outputs": [
    {
     "name": "stdout",
     "output_type": "stream",
     "text": [
      "My First Node is called\n",
      "My Third Node is called\n"
     ]
    },
    {
     "data": {
      "text/plain": [
       "{'graph_state': 'Hi,My name is Krish,I am playing Badminton'}"
      ]
     },
     "execution_count": 7,
     "metadata": {},
     "output_type": "execute_result"
    }
   ],
   "source": [
    "graph.invoke({\"graph_state\": \"Hi,My name is Krish,\"})"
   ]
  },
  {
   "cell_type": "markdown",
   "metadata": {},
   "source": [
    "### Basic Chatbot"
   ]
  },
  {
   "cell_type": "code",
   "execution_count": 9,
   "metadata": {},
   "outputs": [],
   "source": [
    "from typing import Annotated\n",
    "\n",
    "from typing_extensions import TypedDict\n",
    "\n",
    "from langgraph.graph import StateGraph, START, END\n",
    "from langgraph.graph.message import add_messages"
   ]
  },
  {
   "cell_type": "code",
   "execution_count": 10,
   "metadata": {},
   "outputs": [],
   "source": [
    "class State(TypedDict):\n",
    "    messages: Annotated[list, add_messages]"
   ]
  },
  {
   "cell_type": "code",
   "execution_count": 11,
   "metadata": {},
   "outputs": [],
   "source": [
    "graph_builder = StateGraph(State)"
   ]
  },
  {
   "cell_type": "code",
   "execution_count": 13,
   "metadata": {},
   "outputs": [],
   "source": [
    "import os\n",
    "from dotenv import load_dotenv\n",
    "\n",
    "load_dotenv()\n",
    "os.environ[\"GROQ_API_KEY\"] = os.getenv(\"GROQ_API_KEY\")"
   ]
  },
  {
   "cell_type": "code",
   "execution_count": 15,
   "metadata": {},
   "outputs": [
    {
     "data": {
      "text/plain": [
       "ChatGroq(client=<groq.resources.chat.completions.Completions object at 0x112701290>, async_client=<groq.resources.chat.completions.AsyncCompletions object at 0x11283de50>, model_name='gemma2-9b-it', model_kwargs={}, groq_api_key=SecretStr('**********'))"
      ]
     },
     "execution_count": 15,
     "metadata": {},
     "output_type": "execute_result"
    }
   ],
   "source": [
    "from langchain_groq import ChatGroq\n",
    "\n",
    "llm = ChatGroq(model=\"gemma2-9b-it\")\n",
    "llm"
   ]
  },
  {
   "cell_type": "code",
   "execution_count": 16,
   "metadata": {},
   "outputs": [],
   "source": [
    "def chatbot(state: State):\n",
    "    return {\"messages\": [llm.invoke(state[\"messages\"])]}"
   ]
  },
  {
   "cell_type": "code",
   "execution_count": 17,
   "metadata": {},
   "outputs": [],
   "source": [
    "graph_builder.add_node(\"chatbot\", chatbot)\n",
    "graph_builder.add_edge(START, \"chatbot\")\n",
    "graph_builder.add_edge(\"chatbot\", END)\n",
    "graph = graph_builder.compile()"
   ]
  },
  {
   "cell_type": "code",
   "execution_count": 18,
   "metadata": {},
   "outputs": [
    {
     "data": {
      "image/png": "[encoded data removed]",
      "text/plain": [
       "<IPython.core.display.Image object>"
      ]
     },
     "metadata": {},
     "output_type": "display_data"
    }
   ],
   "source": [
    "from IPython.display import Image, display\n",
    "\n",
    "display(Image(graph.get_graph().draw_mermaid_png()))"
   ]
  },
  {
   "cell_type": "code",
   "execution_count": 19,
   "metadata": {},
   "outputs": [],
   "source": [
    "def stream_graph_updates(user_input: str):\n",
    "    for event in graph.stream({\"messages\": [{\"role\": \"user\", \"content\": user_input}]}):\n",
    "        for value in event.values():\n",
    "            print(\"Assistant:\", value[\"messages\"][-1].content)"
   ]
  },
  {
   "cell_type": "code",
   "execution_count": 20,
   "metadata": {},
   "outputs": [
    {
     "name": "stdout",
     "output_type": "stream",
     "text": [
      "Assistant: Let's break down AI agents and agentic AI:\n",
      "\n",
      "**What is an AI Agent?**\n",
      "\n",
      "At its core, an AI agent is a system that:\n",
      "\n",
      "* **Perceives its environment:** It takes in information about the world through sensors (like cameras, microphones, or data feeds).\n",
      "* **Acts upon its environment:** It can make decisions and take actions to influence its surroundings (e.g., moving a robot arm, sending a message, adjusting settings).\n",
      "* **Has a goal:** It's designed to achieve a specific objective or set of objectives.\n",
      "\n",
      "Think of an AI agent like a virtual assistant, but much more versatile.  \n",
      "\n",
      "**Types of AI Agents:**\n",
      "\n",
      "* **Simple reflex agents:** React directly to their current perception without remembering past experiences.\n",
      "* **Model-based reflex agents:** Maintain an internal model of the world and use it to make decisions.\n",
      "* **Goal-based agents:**  Plan actions to achieve specific goals.\n",
      "* **Utility-based agents:**  Make decisions to maximize a measure of \"utility\" or satisfaction.\n",
      "* **Learning agents:**  Adapt and improve their performance over time by learning from experience.\n",
      "\n",
      "**Agentic AI: Taking it a Step Further**\n",
      "\n",
      "\"Agentic AI\" is a more specialized term that emphasizes the autonomous and goal-driven nature of AI agents. \n",
      "\n",
      "Key characteristics of Agentic AI:\n",
      "\n",
      "* **Autonomy:** Agents can operate independently, making decisions and taking actions without constant human intervention.\n",
      "* **Goal-orientation:** Agents have clearly defined objectives they strive to achieve.\n",
      "* **Adaptability:** Agentic AI often includes learning capabilities, allowing agents to adjust their behavior based on new information and experiences.\n",
      "* **Proactive behavior:** Agentic AI agents can take initiative and anticipate future needs, rather than simply reacting to prompts.\n",
      "\n",
      "**Examples of Agentic AI:**\n",
      "\n",
      "* **Self-driving cars:** Navigate roads, make decisions about speed and lane changes, and avoid obstacles.\n",
      "* **Chatbots:** Engage in natural conversations, understand user requests, and provide helpful responses.\n",
      "* **Robotics assistants:** Perform tasks in warehouses, factories, or homes, adapting to changing environments and object locations.\n",
      "* **Personalized learning systems:** Tailor educational content to individual student needs and learning styles.\n",
      "\n",
      "**The Future of Agentic AI:**\n",
      "\n",
      "Agentic AI is a rapidly evolving field with immense potential to transform various industries. As AI technology advances, we can expect to see even more sophisticated and autonomous agents that can handle complex tasks, learn from their experiences, and interact with the world in increasingly human-like ways.\n",
      "\n",
      "\n",
      "Let me know if you have any other questions!\n",
      "\n",
      "Assistant: Please provide me with the text you'd like me to summarize. I need something to work with! 😊 \n",
      "\n",
      "For example, you could say:\n",
      "\n",
      "* \"Summarize this article about the history of coffee.\"\n",
      "* \"Can you summarize the plot of the movie 'The Matrix'?\"\n",
      "* \"I wrote a short story, can you give me a one-sentence summary?\" \n",
      "\n",
      "\n",
      "I'm ready to help once you give me the text! \n",
      "\n",
      "Assistant: Please provide me with a question or a topic you'd like to discuss. \n",
      "\n",
      "I'm ready to help with:\n",
      "\n",
      "* **Answering questions:** I can provide information on a wide range of topics.\n",
      "* **Generating creative content:**  I can write stories, poems, articles, and more.\n",
      "* **Summarizing text:**  Give me a long piece of writing, and I'll give you a concise summary.\n",
      "* **Translating languages:**  I can translate text between many different languages.\n",
      "* **And much more!** \n",
      "\n",
      "Let me know how I can be of assistance. \n",
      "\n",
      "\n",
      "Goodbye!\n"
     ]
    }
   ],
   "source": [
    "while True:\n",
    "    try:\n",
    "        user_input = input(\"User: \")\n",
    "        if user_input.lower() in [\"quit\", \"exit\", \"q\"]:\n",
    "            print(\"Goodbye!\")\n",
    "            break\n",
    "\n",
    "        stream_graph_updates(user_input)\n",
    "    except:\n",
    "        # fallback if input() is not available\n",
    "        user_input = \"What do you know about LangGraph?\"\n",
    "        print(\"User: \" + user_input)\n",
    "        stream_graph_updates(user_input)\n",
    "        break"
   ]
  },
  {
   "cell_type": "code",
   "execution_count": null,
   "metadata": {},
   "outputs": [],
   "source": []
  }
 ],
 "metadata": {
  "kernelspec": {
   "display_name": ".venv",
   "language": "python",
   "name": "python3"
  },
  "language_info": {
   "codemirror_mode": {
    "name": "ipython",
    "version": 3
   },
   "file_extension": ".py",
   "mimetype": "text/x-python",
   "name": "python",
   "nbconvert_exporter": "python",
   "pygments_lexer": "ipython3",
   "version": "3.11.6"
  }
 },
 "nbformat": 4,
 "nbformat_minor": 2
}
